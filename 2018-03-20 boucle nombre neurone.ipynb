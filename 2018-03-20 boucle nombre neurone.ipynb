{
 "cells": [
  {
   "cell_type": "markdown",
   "metadata": {},
   "source": [
    "## Installation\n",
    "\n",
    "### Sur babbage\n",
    "\n",
    "\n",
    "````\n",
    "pip3 install --user --no-dependencies torchvision\n",
    "\n",
    "pip3 install http://download.pytorch.org/whl/cu80/torch-0.3.1-cp35-cp35m-linux_x86_64.whl\n",
    "````\n",
    "\n",
    "notre repo\n",
    "\n",
    "````\n",
    "cd '/home/nicolas/Documents'\n",
    "\n",
    "git clone https://github.com/anaisbrgs/StageL3\n",
    "\n",
    "ipython3\n",
    "\n",
    "cd StageL3/\n",
    "\n",
    "ipython3 mnist.py\n",
    "\n",
    "python3 mnist.py --no-cuda\n",
    "\n",
    "history\n",
    "````"
   ]
  },
  {
   "cell_type": "markdown",
   "metadata": {
    "scrolled": true
   },
   "source": [
    "## Test avec différents nombre de neurones de la seconde couche du réseau"
   ]
  },
  {
   "cell_type": "code",
   "execution_count": 3,
   "metadata": {
    "scrolled": true
   },
   "outputs": [
    {
     "name": "stdout",
     "output_type": "stream",
     "text": [
      "cuda? True\n",
      "Test set: Final Accuracy: 98%\n",
      "Le programme a mis 60.77252531051636 secondes à s'exécuter.\n"
     ]
    }
   ],
   "source": [
    "%run mnist.py --log-interval 0 --dimension 20"
   ]
  },
  {
   "cell_type": "code",
   "execution_count": 4,
   "metadata": {
    "scrolled": true
   },
   "outputs": [
    {
     "name": "stdout",
     "output_type": "stream",
     "text": [
      "cuda? True\n",
      "Test set: Final Accuracy: 98%\n",
      "Le programme a mis 61.74410390853882 secondes à s'exécuter.\n"
     ]
    }
   ],
   "source": [
    "%run mnist.py --log-interval 0 --dimension 50"
   ]
  },
  {
   "cell_type": "code",
   "execution_count": 5,
   "metadata": {
    "scrolled": true
   },
   "outputs": [
    {
     "name": "stdout",
     "output_type": "stream",
     "text": [
      "cuda? True\n",
      "Test set: Final Accuracy: 98%\n",
      "Le programme a mis 61.14071011543274 secondes à s'exécuter.\n"
     ]
    }
   ],
   "source": [
    "%run mnist.py --log-interval 0 --dimension 100"
   ]
  },
  {
   "cell_type": "code",
   "execution_count": 6,
   "metadata": {
    "scrolled": false
   },
   "outputs": [
    {
     "name": "stdout",
     "output_type": "stream",
     "text": [
      "cuda? True\n",
      "Test set: Final Accuracy: 98.780%\n",
      "Le programme a mis 60.203912019729614 secondes à s'exécuter.\n"
     ]
    }
   ],
   "source": [
    "%run mnist.py --log-interval 0 --dimension 200"
   ]
  },
  {
   "cell_type": "code",
   "execution_count": 7,
   "metadata": {
    "scrolled": false
   },
   "outputs": [
    {
     "name": "stdout",
     "output_type": "stream",
     "text": [
      "cuda? True\n",
      "Test set: Final Accuracy: 98.980%\n",
      "Le programme a mis 61.54838418960571 secondes à s'exécuter.\n"
     ]
    }
   ],
   "source": [
    "%run mnist.py --log-interval 0 --dimension 500"
   ]
  },
  {
   "cell_type": "markdown",
   "metadata": {},
   "source": [
    "# En utilisant une boucle"
   ]
  },
  {
   "cell_type": "code",
   "execution_count": 18,
   "metadata": {},
   "outputs": [
    {
     "data": {
      "text/plain": [
       "[4, 10, 21, 46, 100, 215, 464]"
      ]
     },
     "execution_count": 18,
     "metadata": {},
     "output_type": "execute_result"
    }
   ],
   "source": [
    "import numpy as np \n",
    "rho = 10**(1/3.)\n",
    "[int(k) for k in rho**np.arange(2, 9)]"
   ]
  },
  {
   "cell_type": "code",
   "execution_count": 1,
   "metadata": {
    "scrolled": true
   },
   "outputs": [
    {
     "name": "stdout",
     "output_type": "stream",
     "text": [
      "cuda? True\n",
      "La deuxième couche de neurone comporte 4 neurones\n",
      "Test set: Final Accuracy: 98.350%\n",
      "La deuxième couche de neurone comporte 10 neurones\n",
      "Test set: Final Accuracy: 98.850%\n",
      "La deuxième couche de neurone comporte 21 neurones\n",
      "Test set: Final Accuracy: 98.980%\n",
      "La deuxième couche de neurone comporte 46 neurones\n",
      "Test set: Final Accuracy: 99.060%\n",
      "La deuxième couche de neurone comporte 100 neurones\n",
      "Test set: Final Accuracy: 98.910%\n",
      "La deuxième couche de neurone comporte 215 neurones\n",
      "Test set: Final Accuracy: 99.110%\n",
      "La deuxième couche de neurone comporte 464 neurones\n",
      "Test set: Final Accuracy: 99.130%\n"
     ]
    }
   ],
   "source": [
    "%run mnist.py --log-interval 0 --epochs 10 --boucle 1"
   ]
  },
  {
   "cell_type": "code",
   "execution_count": 24,
   "metadata": {},
   "outputs": [],
   "source": [
    "! git add mnist.py\n"
   ]
  },
  {
   "cell_type": "code",
   "execution_count": 26,
   "metadata": {},
   "outputs": [
    {
     "name": "stdout",
     "output_type": "stream",
     "text": [
      "[master 3a9113a] Rajout de la boucle pour automatiser le changement du nombre de neurone dans la couche 2\r\n",
      " 1 file changed, 27 insertions(+), 11 deletions(-)\r\n"
     ]
    }
   ],
   "source": [
    "! git commit -m 'Rajout de la boucle pour automatiser le changement du nombre de neurone dans la couche 2 '"
   ]
  },
  {
   "cell_type": "code",
   "execution_count": null,
   "metadata": {},
   "outputs": [
    {
     "name": "stdout",
     "output_type": "stream",
     "text": [
      "warning: push.default is unset; its implicit value has changed in\n",
      "Git 2.0 from 'matching' to 'simple'. To squelch this message\n",
      "and maintain the traditional behavior, use:\n",
      "\n",
      "  git config --global push.default matching\n",
      "\n",
      "To squelch this message and adopt the new behavior now, use:\n",
      "\n",
      "  git config --global push.default simple\n",
      "\n",
      "When push.default is set to 'matching', git will push local branches\n",
      "to the remote branches that already exist with the same name.\n",
      "\n",
      "Since Git 2.0, Git defaults to the more conservative 'simple'\n",
      "behavior, which only pushes the current branch to the corresponding\n",
      "remote branch that 'git pull' uses to update the current branch.\n",
      "\n",
      "See 'git help config' and search for 'push.default' for further information.\n",
      "(the 'simple' mode was introduced in Git 1.7.11. Use the similar mode\n",
      "'current' instead of 'simple' if you sometimes use older versions of Git)\n",
      "\n",
      "Username for 'https://github.com': "
     ]
    }
   ],
   "source": [
    "!git push"
   ]
  },
  {
   "cell_type": "code",
   "execution_count": null,
   "metadata": {},
   "outputs": [],
   "source": []
  }
 ],
 "metadata": {
  "kernelspec": {
   "display_name": "Python 3",
   "language": "python",
   "name": "python3"
  },
  "language_info": {
   "codemirror_mode": {
    "name": "ipython",
    "version": 3
   },
   "file_extension": ".py",
   "mimetype": "text/x-python",
   "name": "python",
   "nbconvert_exporter": "python",
   "pygments_lexer": "ipython3",
   "version": "3.5.2"
  }
 },
 "nbformat": 4,
 "nbformat_minor": 2
}

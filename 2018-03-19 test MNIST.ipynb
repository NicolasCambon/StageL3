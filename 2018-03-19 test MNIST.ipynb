{
 "cells": [
  {
   "cell_type": "markdown",
   "metadata": {},
   "source": [
    "# Training settings"
   ]
  },
  {
   "cell_type": "code",
   "execution_count": 1,
   "metadata": {
    "ExecuteTime": {
     "end_time": "2018-03-22T20:46:39.297134Z",
     "start_time": "2018-03-22T20:45:01.823055Z"
    },
    "scrolled": false
   },
   "outputs": [
    {
     "name": "stdout",
     "output_type": "stream",
     "text": [
      "cuda? False\n",
      "Downloading http://yann.lecun.com/exdb/mnist/train-images-idx3-ubyte.gz\n",
      "Downloading http://yann.lecun.com/exdb/mnist/train-labels-idx1-ubyte.gz\n",
      "Downloading http://yann.lecun.com/exdb/mnist/t10k-images-idx3-ubyte.gz\n",
      "Downloading http://yann.lecun.com/exdb/mnist/t10k-labels-idx1-ubyte.gz\n",
      "Processing...\n",
      "Done!\n",
      "Test set: Final Accuracy: 94.120%\n",
      "Le programme a mis 25.304505109786987 secondes à s'exécuter.\n"
     ]
    }
   ],
   "source": [
    "%run mnist.py --epochs 1 --log-interval 0 "
   ]
  },
  {
   "cell_type": "code",
   "execution_count": 2,
   "metadata": {
    "ExecuteTime": {
     "end_time": "2018-03-22T20:46:39.313897Z",
     "start_time": "2018-03-22T20:46:39.299901Z"
    }
   },
   "outputs": [
    {
     "name": "stdout",
     "output_type": "stream",
     "text": [
      "Variable         Type              Data/Info\n",
      "--------------------------------------------\n",
      "F                module            <module 'torch.nn.functio<...>/torch/nn/functional.py'>\n",
      "Net              type              <class '__main__.Net'>\n",
      "Variable         type              <class 'torch.autograd.variable.Variable'>\n",
      "argparse         module            <module 'argparse' from '<...>b/python3.6/argparse.py'>\n",
      "args             Namespace         Namespace(batch_size=64, <...>=1, test_batch_size=1000)\n",
      "autopep8         module            <module 'autopep8' from '<...>te-packages/autopep8.py'>\n",
      "datasets         module            <module 'torchvision.data<...>on/datasets/__init__.py'>\n",
      "json             module            <module 'json' from '/usr<...>hon3.6/json/__init__.py'>\n",
      "kwargs           dict              n=0\n",
      "main             function          <function main at 0x11df29b70>\n",
      "model            Net               Net(\\n  (conv1): Conv2d (<...>s=50, out_features=10)\\n)\n",
      "nn               module            <module 'torch.nn' from '<...>es/torch/nn/__init__.py'>\n",
      "np               module            <module 'numpy' from '/us<...>kages/numpy/__init__.py'>\n",
      "optim            module            <module 'torch.optim' fro<...>torch/optim/__init__.py'>\n",
      "optimizer        SGD               <torch.optim.sgd.SGD object at 0x10da684a8>\n",
      "parser           ArgumentParser    ArgumentParser(prog='mnis<...>r='error', add_help=True)\n",
      "print_function   _Feature          _Feature((2, 6, 0, 'alpha<...>0, 0, 'alpha', 0), 65536)\n",
      "protocol         function          <function protocol at 0x11df29ae8>\n",
      "t0               float             1521751573.9900029\n",
      "t1               float             1521751599.294508\n",
      "test             function          <function test at 0x11df29a60>\n",
      "test_loader      DataLoader        <torch.utils.data.dataloa<...>er object at 0x112bb1278>\n",
      "time             module            <module 'time' (built-in)>\n",
      "torch            module            <module 'torch' from '/us<...>kages/torch/__init__.py'>\n",
      "train            function          <function train at 0x11df299d8>\n",
      "train_loader     DataLoader        <torch.utils.data.dataloa<...>er object at 0x112bbee48>\n",
      "transforms       module            <module 'torchvision.tran<...>/transforms/__init__.py'>\n"
     ]
    }
   ],
   "source": [
    "%whos"
   ]
  },
  {
   "cell_type": "code",
   "execution_count": 3,
   "metadata": {
    "ExecuteTime": {
     "end_time": "2018-03-22T20:51:07.998212Z",
     "start_time": "2018-03-22T20:46:39.315961Z"
    }
   },
   "outputs": [
    {
     "name": "stdout",
     "output_type": "stream",
     "text": [
      "cuda? False\n",
      "Test set: Final Accuracy: 98.480%\n",
      "Le programme a mis 268.6386067867279 secondes à s'exécuter.\n"
     ]
    }
   ],
   "source": [
    "%run mnist.py --epochs 10 --log-interval 0 "
   ]
  },
  {
   "cell_type": "code",
   "execution_count": 4,
   "metadata": {
    "ExecuteTime": {
     "end_time": "2018-03-22T20:55:25.701511Z",
     "start_time": "2018-03-22T20:51:08.001381Z"
    }
   },
   "outputs": [
    {
     "name": "stdout",
     "output_type": "stream",
     "text": [
      "cuda? False\n",
      "Test set: Final Accuracy: 98.020%\n",
      "Le programme a mis 257.567587852478 secondes à s'exécuter.\n"
     ]
    }
   ],
   "source": [
    "%run mnist.py --epochs 10 --dimension 20 --log-interval 0 "
   ]
  },
  {
   "cell_type": "code",
   "execution_count": 5,
   "metadata": {
    "ExecuteTime": {
     "end_time": "2018-03-22T20:59:50.629683Z",
     "start_time": "2018-03-22T20:55:25.705514Z"
    }
   },
   "outputs": [
    {
     "name": "stdout",
     "output_type": "stream",
     "text": [
      "cuda? False\n",
      "Test set: Final Accuracy: 98.800%\n",
      "Le programme a mis 264.79645013809204 secondes à s'exécuter.\n"
     ]
    }
   ],
   "source": [
    "%run mnist.py --epochs 10 --dimension 200 --log-interval 0 "
   ]
  }
 ],
 "metadata": {
  "kernelspec": {
   "display_name": "Python 3",
   "language": "python",
   "name": "python3"
  },
  "language_info": {
   "codemirror_mode": {
    "name": "ipython",
    "version": 3
   },
   "file_extension": ".py",
   "mimetype": "text/x-python",
   "name": "python",
   "nbconvert_exporter": "python",
   "pygments_lexer": "ipython3",
   "version": "3.6.4"
  },
  "toc": {
   "nav_menu": {},
   "number_sections": true,
   "sideBar": true,
   "skip_h1_title": false,
   "title_cell": "Table of Contents",
   "title_sidebar": "Contents",
   "toc_cell": false,
   "toc_position": {},
   "toc_section_display": true,
   "toc_window_display": false
  }
 },
 "nbformat": 4,
 "nbformat_minor": 2
}

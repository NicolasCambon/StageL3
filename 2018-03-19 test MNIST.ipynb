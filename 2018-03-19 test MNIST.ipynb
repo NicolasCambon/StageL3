{
 "cells": [
  {
   "cell_type": "markdown",
   "metadata": {},
   "source": [
    "# Training settings"
   ]
  },
  {
   "cell_type": "code",
   "execution_count": 31,
   "metadata": {
    "scrolled": false
   },
   "outputs": [
    {
     "name": "stdout",
     "output_type": "stream",
     "text": [
      "cuda? False\n",
      "Test set: Final Accuracy: 94.080%\n",
      "Le programme a mis 29.878020763397217 secondes à s'exécuter.\n"
     ]
    }
   ],
   "source": [
    "%run mnist.py --epochs 1 --log-interval 0 "
   ]
  },
  {
   "cell_type": "code",
   "execution_count": 32,
   "metadata": {},
   "outputs": [
    {
     "name": "stdout",
     "output_type": "stream",
     "text": [
      "Variable         Type              Data/Info\n",
      "--------------------------------------------\n",
      "F                module            <module 'torch.nn.functio<...>/torch/nn/functional.py'>\n",
      "Net              type              <class '__main__.Net'>\n",
      "Variable         type              <class 'torch.autograd.variable.Variable'>\n",
      "argparse         module            <module 'argparse' from '<...>b/python3.6/argparse.py'>\n",
      "args             Namespace         Namespace(batch_size=64, <...>=1, test_batch_size=1000)\n",
      "datasets         module            <module 'torchvision.data<...>on/datasets/__init__.py'>\n",
      "kwargs           dict              n=0\n",
      "main             function          <function main at 0x10c33a510>\n",
      "model            Net               Net(\\n  (conv1): Conv2d(1<...>eatures=10, bias=True)\\n)\n",
      "nn               module            <module 'torch.nn' from '<...>es/torch/nn/__init__.py'>\n",
      "np               module            <module 'numpy' from '/an<...>kages/numpy/__init__.py'>\n",
      "optim            module            <module 'torch.optim' fro<...>torch/optim/__init__.py'>\n",
      "optimizer        SGD               <torch.optim.sgd.SGD object at 0x10be82e48>\n",
      "parser           ArgumentParser    ArgumentParser(prog='mnis<...>r='error', add_help=True)\n",
      "print_function   _Feature          _Feature((2, 6, 0, 'alpha<...>0, 0, 'alpha', 0), 65536)\n",
      "protocol         function          <function protocol at 0x10c33a488>\n",
      "t0               float             1521545852.1185431\n",
      "t1               float             1521545881.996564\n",
      "test             function          <function test at 0x10c33a400>\n",
      "test_loader      DataLoader        <torch.utils.data.dataloa<...>er object at 0x10be234a8>\n",
      "time             module            <module 'time' (built-in)>\n",
      "torch            module            <module 'torch' from '/an<...>kages/torch/__init__.py'>\n",
      "train            function          <function train at 0x10c33a378>\n",
      "train_loader     DataLoader        <torch.utils.data.dataloa<...>er object at 0x10be23240>\n",
      "transforms       module            <module 'torchvision.tran<...>/transforms/__init__.py'>\n"
     ]
    }
   ],
   "source": [
    "%whos"
   ]
  },
  {
   "cell_type": "code",
   "execution_count": null,
   "metadata": {
    "collapsed": true
   },
   "outputs": [],
   "source": [
    "%run mnist.py --epochs 10 --log-interval 0 "
   ]
  },
  {
   "cell_type": "code",
   "execution_count": null,
   "metadata": {
    "collapsed": true
   },
   "outputs": [],
   "source": [
    "%run mnist.py --epochs 10 --dimension 20 --log-interval 0 "
   ]
  },
  {
   "cell_type": "code",
   "execution_count": null,
   "metadata": {
    "collapsed": true
   },
   "outputs": [],
   "source": [
    "%run mnist.py --epochs 10 --dimension 200 --log-interval 0 "
   ]
  }
 ],
 "metadata": {
  "kernelspec": {
   "display_name": "Python 3",
   "language": "python",
   "name": "python3"
  },
  "language_info": {
   "codemirror_mode": {
    "name": "ipython",
    "version": 3
   },
   "file_extension": ".py",
   "mimetype": "text/x-python",
   "name": "python",
   "nbconvert_exporter": "python",
   "pygments_lexer": "ipython3",
   "version": "3.6.2"
  }
 },
 "nbformat": 4,
 "nbformat_minor": 2
}

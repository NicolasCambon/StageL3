{
 "cells": [
  {
   "cell_type": "markdown",
   "metadata": {},
   "source": [
    "## Installation\n",
    "\n",
    "### Sur babbage\n",
    "\n",
    "\n",
    "````\n",
    "pip3 install --user --no-dependencies torchvision\n",
    "\n",
    "pip3 install http://download.pytorch.org/whl/cu80/torch-0.3.1-cp35-cp35m-linux_x86_64.whl\n",
    "````\n",
    "\n",
    "notre repo\n",
    "\n",
    "````\n",
    "cd '/home/nicolas/Documents'\n",
    "\n",
    "git clone https://github.com/anaisbrgs/StageL3\n",
    "\n",
    "ipython3\n",
    "\n",
    "cd StageL3/\n",
    "\n",
    "ipython3 mnist.py\n",
    "\n",
    "python3 mnist.py --no-cuda\n",
    "\n",
    "history\n",
    "````"
   ]
  },
  {
   "cell_type": "code",
   "execution_count": 14,
   "metadata": {},
   "outputs": [
    {
     "name": "stdout",
     "output_type": "stream",
     "text": [
      "4.792213439941406e-05\n"
     ]
    }
   ],
   "source": [
    "import time\n",
    "t0 = time.time()\n",
    "t1 = time.time()\n",
    "print(t1-t0)"
   ]
  },
  {
   "cell_type": "code",
   "execution_count": 18,
   "metadata": {},
   "outputs": [
    {
     "name": "stdout",
     "output_type": "stream",
     "text": [
      "cuda? True\n",
      "Train Epoch: 1 [0/60000 (0%)]\tLoss: 2.373651\n",
      "\n",
      "Test set: Average loss: 0.2035, Accuracy: 9404/10000 (94%)\n",
      "\n",
      "Train Epoch: 2 [0/60000 (0%)]\tLoss: 0.479532\n",
      "\n",
      "Test set: Average loss: 0.1272, Accuracy: 9585/10000 (96%)\n",
      "\n",
      "Train Epoch: 3 [0/60000 (0%)]\tLoss: 0.528678\n",
      "\n",
      "Test set: Average loss: 0.1004, Accuracy: 9695/10000 (97%)\n",
      "\n",
      "Train Epoch: 4 [0/60000 (0%)]\tLoss: 0.384151\n",
      "\n",
      "Test set: Average loss: 0.0820, Accuracy: 9742/10000 (97%)\n",
      "\n",
      "Train Epoch: 5 [0/60000 (0%)]\tLoss: 0.542103\n",
      "\n",
      "Test set: Average loss: 0.0767, Accuracy: 9763/10000 (98%)\n",
      "\n",
      "Train Epoch: 6 [0/60000 (0%)]\tLoss: 0.250497\n",
      "\n",
      "Test set: Average loss: 0.0672, Accuracy: 9782/10000 (98%)\n",
      "\n",
      "Train Epoch: 7 [0/60000 (0%)]\tLoss: 0.203713\n",
      "\n",
      "Test set: Average loss: 0.0666, Accuracy: 9796/10000 (98%)\n",
      "\n",
      "Train Epoch: 8 [0/60000 (0%)]\tLoss: 0.292368\n",
      "\n",
      "Test set: Average loss: 0.0580, Accuracy: 9819/10000 (98%)\n",
      "\n",
      "Train Epoch: 9 [0/60000 (0%)]\tLoss: 0.073521\n",
      "\n",
      "Test set: Average loss: 0.0550, Accuracy: 9835/10000 (98%)\n",
      "\n",
      "Train Epoch: 10 [0/60000 (0%)]\tLoss: 0.085096\n",
      "\n",
      "Test set: Average loss: 0.0496, Accuracy: 9843/10000 (98%)\n",
      "\n",
      "Le programme a mis 63.530863523483276 secondes à s'exécuter\n"
     ]
    }
   ],
   "source": [
    "%run mnist.py --log-interval 1000"
   ]
  },
  {
   "cell_type": "code",
   "execution_count": 19,
   "metadata": {},
   "outputs": [
    {
     "name": "stdout",
     "output_type": "stream",
     "text": [
      "cuda? False\n",
      "Train Epoch: 1 [0/60000 (0%)]\tLoss: 2.376790\n",
      "\n",
      "Test set: Average loss: 0.2067, Accuracy: 9414/10000 (94%)\n",
      "\n",
      "Train Epoch: 2 [0/60000 (0%)]\tLoss: 0.357386\n",
      "\n",
      "Test set: Average loss: 0.1255, Accuracy: 9612/10000 (96%)\n",
      "\n",
      "Train Epoch: 3 [0/60000 (0%)]\tLoss: 0.393218\n",
      "\n",
      "Test set: Average loss: 0.0982, Accuracy: 9699/10000 (97%)\n",
      "\n",
      "Train Epoch: 4 [0/60000 (0%)]\tLoss: 0.073436\n",
      "\n",
      "Test set: Average loss: 0.0822, Accuracy: 9754/10000 (98%)\n",
      "\n",
      "Train Epoch: 5 [0/60000 (0%)]\tLoss: 0.346925\n",
      "\n",
      "Test set: Average loss: 0.0779, Accuracy: 9767/10000 (98%)\n",
      "\n",
      "Train Epoch: 6 [0/60000 (0%)]\tLoss: 0.146299\n",
      "\n",
      "Test set: Average loss: 0.0668, Accuracy: 9800/10000 (98%)\n",
      "\n",
      "Train Epoch: 7 [0/60000 (0%)]\tLoss: 0.131599\n",
      "\n",
      "Test set: Average loss: 0.0606, Accuracy: 9804/10000 (98%)\n",
      "\n",
      "Train Epoch: 8 [0/60000 (0%)]\tLoss: 0.294288\n",
      "\n",
      "Test set: Average loss: 0.0615, Accuracy: 9811/10000 (98%)\n",
      "\n",
      "Train Epoch: 9 [0/60000 (0%)]\tLoss: 0.161194\n",
      "\n",
      "Test set: Average loss: 0.0539, Accuracy: 9829/10000 (98%)\n",
      "\n",
      "Train Epoch: 10 [0/60000 (0%)]\tLoss: 0.225240\n",
      "\n",
      "Test set: Average loss: 0.0495, Accuracy: 9844/10000 (98%)\n",
      "\n",
      "Le programme a mis 171.96436405181885 secondes à s'exécuter.\n"
     ]
    }
   ],
   "source": [
    "%run mnist.py --no-cuda --log-interval 1000"
   ]
  },
  {
   "cell_type": "markdown",
   "metadata": {},
   "source": [
    "## git"
   ]
  },
  {
   "cell_type": "code",
   "execution_count": 20,
   "metadata": {},
   "outputs": [
    {
     "name": "stdout",
     "output_type": "stream",
     "text": [
      "On branch master\r\n",
      "Your branch is up-to-date with 'origin/master'.\r\n",
      "Changes not staged for commit:\r\n",
      "  (use \"git add <file>...\" to update what will be committed)\r\n",
      "  (use \"git checkout -- <file>...\" to discard changes in working directory)\r\n",
      "\r\n",
      "\t\u001b[31mmodified:   mnist.py\u001b[m\r\n",
      "\r\n",
      "Untracked files:\r\n",
      "  (use \"git add <file>...\" to include in what will be committed)\r\n",
      "\r\n",
      "\t\u001b[31m2018-03-19 training MNIST on the GPU.ipynb\u001b[m\r\n",
      "\r\n",
      "no changes added to commit (use \"git add\" and/or \"git commit -a\")\r\n"
     ]
    }
   ],
   "source": [
    "!git status"
   ]
  },
  {
   "cell_type": "code",
   "execution_count": 25,
   "metadata": {
    "collapsed": true
   },
   "outputs": [],
   "source": [
    "!git add 2018-03-19*"
   ]
  },
  {
   "cell_type": "code",
   "execution_count": 26,
   "metadata": {},
   "outputs": [
    {
     "name": "stdout",
     "output_type": "stream",
     "text": [
      "On branch master\r\n",
      "Your branch is up-to-date with 'origin/master'.\r\n",
      "Changes to be committed:\r\n",
      "  (use \"git reset HEAD <file>...\" to unstage)\r\n",
      "\r\n",
      "\t\u001b[32mnew file:   2018-03-19 training MNIST on the GPU.ipynb\u001b[m\r\n",
      "\r\n",
      "Changes not staged for commit:\r\n",
      "  (use \"git add <file>...\" to update what will be committed)\r\n",
      "  (use \"git checkout -- <file>...\" to discard changes in working directory)\r\n",
      "\r\n",
      "\t\u001b[31mmodified:   mnist.py\u001b[m\r\n",
      "\r\n"
     ]
    }
   ],
   "source": [
    "!git status"
   ]
  },
  {
   "cell_type": "code",
   "execution_count": 27,
   "metadata": {},
   "outputs": [
    {
     "name": "stdout",
     "output_type": "stream",
     "text": [
      "\u001b[1mdiff --git a/mnist.py b/mnist.py\u001b[m\r\n",
      "\u001b[1mindex 8551e60..35688c0 100644\u001b[m\r\n",
      "\u001b[1m--- a/mnist.py\u001b[m\r\n",
      "\u001b[1m+++ b/mnist.py\u001b[m\r\n",
      "\u001b[36m@@ -1,5 +1,6 @@\u001b[m\r\n",
      " from __future__ import print_function\u001b[m\r\n",
      " import argparse\u001b[m\r\n",
      "\u001b[32m+\u001b[m\u001b[32mimport time\u001b[m\r\n",
      " import torch\u001b[m\r\n",
      " import torch.nn as nn\u001b[m\r\n",
      " import torch.nn.functional as F\u001b[m\r\n",
      "\u001b[36m@@ -7,6 +8,7 @@\u001b[m \u001b[mimport torch.optim as optim\u001b[m\r\n",
      " from torchvision import datasets, transforms\u001b[m\r\n",
      " from torch.autograd import Variable\u001b[m\r\n",
      " \u001b[m\r\n",
      "\u001b[32m+\u001b[m\u001b[32mt0 = time.time ()\u001b[m\r\n",
      " # Training settings\u001b[m\r\n",
      " parser = argparse.ArgumentParser(description='PyTorch MNIST Example')\u001b[m\r\n",
      " parser.add_argument('--batch-size', type=int, default=64, metavar='N',\u001b[m\r\n",
      "\u001b[36m@@ -27,7 +29,7 @@\u001b[m \u001b[mparser.add_argument('--log-interval', type=int, default=10, metavar='N',\u001b[m\r\n",
      "                     help='how many batches to wait before logging training status')\u001b[m\r\n",
      " args = parser.parse_args()\u001b[m\r\n",
      " args.cuda = not args.no_cuda and torch.cuda.is_available()\u001b[m\r\n",
      "\u001b[31m-\u001b[m\r\n",
      "\u001b[32m+\u001b[m\u001b[32mprint ('cuda?', args.cuda)\u001b[m\r\n",
      " torch.manual_seed(args.seed)\u001b[m\r\n",
      " if args.cuda:\u001b[m\r\n",
      "     torch.cuda.manual_seed(args.seed)\u001b[m\r\n",
      "\u001b[36m@@ -118,3 +120,8 @@\u001b[m \u001b[mdef main():\u001b[m\r\n",
      "         train(epoch)\u001b[m\r\n",
      "         test()\u001b[m\r\n",
      " \u001b[m\r\n",
      "\u001b[32m+\u001b[m\u001b[32mmain()\u001b[m\r\n",
      "\u001b[32m+\u001b[m\r\n",
      "\u001b[32m+\u001b[m\u001b[32mt1 = time.time ()\u001b[m\r\n",
      "\u001b[32m+\u001b[m\r\n",
      "\u001b[32m+\u001b[m\u001b[32mprint (\"Le programme a mis\",t1-t0, \"secondes à s'exécuter.\")\u001b[m\r\n",
      "\\ No newline at end of file\u001b[m\r\n"
     ]
    }
   ],
   "source": [
    "!git diff mnist.py\n"
   ]
  },
  {
   "cell_type": "code",
   "execution_count": 28,
   "metadata": {},
   "outputs": [
    {
     "name": "stdout",
     "output_type": "stream",
     "text": [
      "\r\n",
      "*** Please tell me who you are.\r\n",
      "\r\n",
      "Run\r\n",
      "\r\n",
      "  git config --global user.email \"you@example.com\"\r\n",
      "  git config --global user.name \"Your Name\"\r\n",
      "\r\n",
      "to set your account's default identity.\r\n",
      "Omit --global to set the identity only in this repository.\r\n",
      "\r\n",
      "fatal: unable to auto-detect email address (got 'nicolas@babbage.(none)')\r\n"
     ]
    }
   ],
   "source": [
    "!git commit -am' Train on GPU '"
   ]
  },
  {
   "cell_type": "code",
   "execution_count": null,
   "metadata": {
    "collapsed": true
   },
   "outputs": [],
   "source": []
  }
 ],
 "metadata": {
  "kernelspec": {
   "display_name": "Python 3",
   "language": "python",
   "name": "python3"
  },
  "language_info": {
   "codemirror_mode": {
    "name": "ipython",
    "version": 3
   },
   "file_extension": ".py",
   "mimetype": "text/x-python",
   "name": "python",
   "nbconvert_exporter": "python",
   "pygments_lexer": "ipython3",
   "version": "3.6.2"
  }
 },
 "nbformat": 4,
 "nbformat_minor": 2
}

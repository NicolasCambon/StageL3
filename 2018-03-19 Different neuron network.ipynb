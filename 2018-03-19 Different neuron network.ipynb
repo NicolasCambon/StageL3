{
 "cells": [
  {
   "cell_type": "markdown",
   "metadata": {},
   "source": [
    "## Installation\n",
    "\n",
    "### Sur babbage\n",
    "\n",
    "\n",
    "````\n",
    "pip3 install --user --no-dependencies torchvision\n",
    "\n",
    "pip3 install http://download.pytorch.org/whl/cu80/torch-0.3.1-cp35-cp35m-linux_x86_64.whl\n",
    "````\n",
    "\n",
    "notre repo\n",
    "\n",
    "````\n",
    "cd '/home/nicolas/Documents'\n",
    "\n",
    "git clone https://github.com/anaisbrgs/StageL3\n",
    "\n",
    "ipython3\n",
    "\n",
    "cd StageL3/\n",
    "\n",
    "ipython3 mnist.py\n",
    "\n",
    "python3 mnist.py --no-cuda\n",
    "\n",
    "history\n",
    "````"
   ]
  },
  {
   "cell_type": "code",
   "execution_count": null,
   "metadata": {
    "scrolled": true
   },
   "outputs": [
    {
     "name": "stdout",
     "output_type": "stream",
     "text": [
      "cuda? True\n"
     ]
    }
   ],
   "source": [
    "%run mnist.py --log-interval 0 --dimension 200"
   ]
  },
  {
   "cell_type": "code",
   "execution_count": null,
   "metadata": {},
   "outputs": [],
   "source": []
  }
 ],
 "metadata": {
  "kernelspec": {
   "display_name": "Python 3",
   "language": "python",
   "name": "python3"
  },
  "language_info": {
   "codemirror_mode": {
    "name": "ipython",
    "version": 3
   },
   "file_extension": ".py",
   "mimetype": "text/x-python",
   "name": "python",
   "nbconvert_exporter": "python",
   "pygments_lexer": "ipython3",
   "version": "3.5.2"
  }
 },
 "nbformat": 4,
 "nbformat_minor": 2
}

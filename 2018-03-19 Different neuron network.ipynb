{
 "cells": [
  {
   "cell_type": "markdown",
   "metadata": {},
   "source": [
    "## Installation\n",
    "\n",
    "### Sur babbage\n",
    "\n",
    "\n",
    "````\n",
    "pip3 install --user --no-dependencies torchvision\n",
    "\n",
    "pip3 install http://download.pytorch.org/whl/cu80/torch-0.3.1-cp35-cp35m-linux_x86_64.whl\n",
    "````\n",
    "\n",
    "notre repo\n",
    "\n",
    "````\n",
    "cd '/home/nicolas/Documents'\n",
    "\n",
    "git clone https://github.com/anaisbrgs/StageL3\n",
    "\n",
    "ipython3\n",
    "\n",
    "cd StageL3/\n",
    "\n",
    "ipython3 mnist.py\n",
    "\n",
    "python3 mnist.py --no-cuda\n",
    "\n",
    "history\n",
    "````"
   ]
  },
  {
   "cell_type": "code",
   "execution_count": 42,
   "metadata": {
    "scrolled": true
   },
   "outputs": [
    {
     "name": "stdout",
     "output_type": "stream",
     "text": [
      "cuda? True\n",
      "Train Epoch: 1 [0/60000 (0%)]\tLoss: 2.352636\n",
      "\n",
      "Test set: Average loss: 0.1685, Accuracy: 9510/10000 (95%)\n",
      "\n",
      "Train Epoch: 2 [0/60000 (0%)]\tLoss: 0.438551\n",
      "\n",
      "Test set: Average loss: 0.1028, Accuracy: 9696/10000 (97%)\n",
      "\n",
      "Train Epoch: 3 [0/60000 (0%)]\tLoss: 0.337421\n",
      "\n",
      "Test set: Average loss: 0.0769, Accuracy: 9775/10000 (98%)\n",
      "\n",
      "Train Epoch: 4 [0/60000 (0%)]\tLoss: 0.035922\n",
      "\n",
      "Test set: Average loss: 0.0659, Accuracy: 9792/10000 (98%)\n",
      "\n",
      "Train Epoch: 5 [0/60000 (0%)]\tLoss: 0.143193\n",
      "\n",
      "Test set: Average loss: 0.0591, Accuracy: 9809/10000 (98%)\n",
      "\n",
      "Train Epoch: 6 [0/60000 (0%)]\tLoss: 0.052440\n",
      "\n",
      "Test set: Average loss: 0.0505, Accuracy: 9840/10000 (98%)\n",
      "\n",
      "Train Epoch: 7 [0/60000 (0%)]\tLoss: 0.039703\n",
      "\n",
      "Test set: Average loss: 0.0467, Accuracy: 9853/10000 (99%)\n",
      "\n",
      "Train Epoch: 8 [0/60000 (0%)]\tLoss: 0.097663\n",
      "\n",
      "Test set: Average loss: 0.0434, Accuracy: 9867/10000 (99%)\n",
      "\n",
      "Train Epoch: 9 [0/60000 (0%)]\tLoss: 0.157326\n",
      "\n",
      "Test set: Average loss: 0.0406, Accuracy: 9875/10000 (99%)\n",
      "\n",
      "Train Epoch: 10 [0/60000 (0%)]\tLoss: 0.061732\n",
      "\n",
      "Test set: Average loss: 0.0380, Accuracy: 9879/10000 (99%)\n",
      "\n",
      "Le programme a mis 61.41134762763977 secondes à s'exécuter.\n"
     ]
    }
   ],
   "source": [
    "%run mnist.py --log-interval 1000 --dimension 200"
   ]
  },
  {
   "cell_type": "code",
   "execution_count": null,
   "metadata": {},
   "outputs": [],
   "source": []
  },
  {
   "cell_type": "code",
   "execution_count": null,
   "metadata": {},
   "outputs": [],
   "source": []
  }
 ],
 "metadata": {
  "kernelspec": {
   "display_name": "Python 3",
   "language": "python",
   "name": "python3"
  },
  "language_info": {
   "codemirror_mode": {
    "name": "ipython",
    "version": 3
   },
   "file_extension": ".py",
   "mimetype": "text/x-python",
   "name": "python",
   "nbconvert_exporter": "python",
   "pygments_lexer": "ipython3",
   "version": "3.5.2"
  }
 },
 "nbformat": 4,
 "nbformat_minor": 2
}

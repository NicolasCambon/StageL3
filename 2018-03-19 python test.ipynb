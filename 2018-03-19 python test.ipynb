{
 "cells": [
  {
   "cell_type": "markdown",
   "metadata": {},
   "source": [
    "### test\n",
    "\n",
    "\n",
    "à lire:\n",
    "\n",
    "* http://deusyss.developpez.com/tutoriels/Python/args_kwargs/\n",
    "* https://docs.python.org/3/library/argparse.html\n"
   ]
  },
  {
   "cell_type": "code",
   "execution_count": 4,
   "metadata": {},
   "outputs": [
    {
     "name": "stdout",
     "output_type": "stream",
     "text": [
      "😎😎😎😎😎😎😎😎😎😎😎😎😎😎😎😎😎😎😎😎hello world😎😎😎😎😎😎😎😎😎😎😎😎😎😎😎😎😎😎😎😎\n"
     ]
    }
   ],
   "source": [
    "print(20*'😎' + 'hello world' + 20*'😎')"
   ]
  },
  {
   "cell_type": "code",
   "execution_count": 2,
   "metadata": {},
   "outputs": [
    {
     "name": "stdout",
     "output_type": "stream",
     "text": [
      "0\n",
      "1\n",
      "2\n",
      "3\n",
      "4\n"
     ]
    }
   ],
   "source": [
    "for _ in range(5):\n",
    "    print(_)"
   ]
  },
  {
   "cell_type": "markdown",
   "metadata": {
    "collapsed": true
   },
   "source": [
    "Ceci n'est pas un *commentaire*.\n",
    "\n",
    "appuyer sur ``h`` pour obtenir de l'aide et pour markdown, suivre https://help.github.com/articles/getting-started-with-writing-and-formatting-on-github/.\n"
   ]
  }
 ],
 "metadata": {
  "kernelspec": {
   "display_name": "Python 3",
   "language": "python",
   "name": "python3"
  },
  "language_info": {
   "codemirror_mode": {
    "name": "ipython",
    "version": 3
   },
   "file_extension": ".py",
   "mimetype": "text/x-python",
   "name": "python",
   "nbconvert_exporter": "python",
   "pygments_lexer": "ipython3",
   "version": "3.6.2"
  }
 },
 "nbformat": 4,
 "nbformat_minor": 2
}
